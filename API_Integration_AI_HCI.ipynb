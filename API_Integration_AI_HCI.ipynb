{
  "nbformat": 4,
  "nbformat_minor": 0,
  "metadata": {
    "colab": {
      "provenance": []
    },
    "kernelspec": {
      "name": "python3",
      "display_name": "Python 3"
    },
    "language_info": {
      "name": "python"
    }
  },
  "cells": [
    {
      "cell_type": "code",
      "source": [
        "# Installing cohere"
      ],
      "metadata": {
        "id": "6-JRjEeOXz6A"
      },
      "execution_count": null,
      "outputs": []
    },
    {
      "cell_type": "markdown",
      "source": [
        "## Sign up : https://dashboard.cohere.com/api-keys\n",
        "-> Get Free API Key"
      ],
      "metadata": {
        "id": "8jxP8Sn0X3yg"
      }
    },
    {
      "cell_type": "code",
      "execution_count": 4,
      "metadata": {
        "colab": {
          "base_uri": "https://localhost:8080/"
        },
        "id": "0-X9e9jWUkug",
        "outputId": "0ecfadd1-6a4c-4c30-e499-5d412c184916"
      },
      "outputs": [
        {
          "output_type": "stream",
          "name": "stdout",
          "text": [
            "Collecting cohere\n",
            "  Downloading cohere-5.11.1-py3-none-any.whl.metadata (3.5 kB)\n",
            "Collecting fastavro<2.0.0,>=1.9.4 (from cohere)\n",
            "  Downloading fastavro-1.9.7-cp310-cp310-manylinux_2_17_x86_64.manylinux2014_x86_64.whl.metadata (5.5 kB)\n",
            "Collecting httpx>=0.21.2 (from cohere)\n",
            "  Downloading httpx-0.27.2-py3-none-any.whl.metadata (7.1 kB)\n",
            "Collecting httpx-sse==0.4.0 (from cohere)\n",
            "  Downloading httpx_sse-0.4.0-py3-none-any.whl.metadata (9.0 kB)\n",
            "Collecting parameterized<0.10.0,>=0.9.0 (from cohere)\n",
            "  Downloading parameterized-0.9.0-py2.py3-none-any.whl.metadata (18 kB)\n",
            "Requirement already satisfied: pydantic>=1.9.2 in /usr/local/lib/python3.10/dist-packages (from cohere) (2.9.2)\n",
            "Requirement already satisfied: pydantic-core<3.0.0,>=2.18.2 in /usr/local/lib/python3.10/dist-packages (from cohere) (2.23.4)\n",
            "Requirement already satisfied: requests<3.0.0,>=2.0.0 in /usr/local/lib/python3.10/dist-packages (from cohere) (2.32.3)\n",
            "Requirement already satisfied: tokenizers<1,>=0.15 in /usr/local/lib/python3.10/dist-packages (from cohere) (0.19.1)\n",
            "Collecting types-requests<3.0.0,>=2.0.0 (from cohere)\n",
            "  Downloading types_requests-2.32.0.20241016-py3-none-any.whl.metadata (1.9 kB)\n",
            "Requirement already satisfied: typing_extensions>=4.0.0 in /usr/local/lib/python3.10/dist-packages (from cohere) (4.12.2)\n",
            "Requirement already satisfied: anyio in /usr/local/lib/python3.10/dist-packages (from httpx>=0.21.2->cohere) (3.7.1)\n",
            "Requirement already satisfied: certifi in /usr/local/lib/python3.10/dist-packages (from httpx>=0.21.2->cohere) (2024.8.30)\n",
            "Collecting httpcore==1.* (from httpx>=0.21.2->cohere)\n",
            "  Downloading httpcore-1.0.6-py3-none-any.whl.metadata (21 kB)\n",
            "Requirement already satisfied: idna in /usr/local/lib/python3.10/dist-packages (from httpx>=0.21.2->cohere) (3.10)\n",
            "Requirement already satisfied: sniffio in /usr/local/lib/python3.10/dist-packages (from httpx>=0.21.2->cohere) (1.3.1)\n",
            "Collecting h11<0.15,>=0.13 (from httpcore==1.*->httpx>=0.21.2->cohere)\n",
            "  Downloading h11-0.14.0-py3-none-any.whl.metadata (8.2 kB)\n",
            "Requirement already satisfied: annotated-types>=0.6.0 in /usr/local/lib/python3.10/dist-packages (from pydantic>=1.9.2->cohere) (0.7.0)\n",
            "Requirement already satisfied: charset-normalizer<4,>=2 in /usr/local/lib/python3.10/dist-packages (from requests<3.0.0,>=2.0.0->cohere) (3.4.0)\n",
            "Requirement already satisfied: urllib3<3,>=1.21.1 in /usr/local/lib/python3.10/dist-packages (from requests<3.0.0,>=2.0.0->cohere) (2.2.3)\n",
            "Requirement already satisfied: huggingface-hub<1.0,>=0.16.4 in /usr/local/lib/python3.10/dist-packages (from tokenizers<1,>=0.15->cohere) (0.24.7)\n",
            "Requirement already satisfied: filelock in /usr/local/lib/python3.10/dist-packages (from huggingface-hub<1.0,>=0.16.4->tokenizers<1,>=0.15->cohere) (3.16.1)\n",
            "Requirement already satisfied: fsspec>=2023.5.0 in /usr/local/lib/python3.10/dist-packages (from huggingface-hub<1.0,>=0.16.4->tokenizers<1,>=0.15->cohere) (2024.6.1)\n",
            "Requirement already satisfied: packaging>=20.9 in /usr/local/lib/python3.10/dist-packages (from huggingface-hub<1.0,>=0.16.4->tokenizers<1,>=0.15->cohere) (24.1)\n",
            "Requirement already satisfied: pyyaml>=5.1 in /usr/local/lib/python3.10/dist-packages (from huggingface-hub<1.0,>=0.16.4->tokenizers<1,>=0.15->cohere) (6.0.2)\n",
            "Requirement already satisfied: tqdm>=4.42.1 in /usr/local/lib/python3.10/dist-packages (from huggingface-hub<1.0,>=0.16.4->tokenizers<1,>=0.15->cohere) (4.66.5)\n",
            "Requirement already satisfied: exceptiongroup in /usr/local/lib/python3.10/dist-packages (from anyio->httpx>=0.21.2->cohere) (1.2.2)\n",
            "Downloading cohere-5.11.1-py3-none-any.whl (249 kB)\n",
            "\u001b[2K   \u001b[90m━━━━━━━━━━━━━━━━━━━━━━━━━━━━━━━━━━━━━━━━\u001b[0m \u001b[32m249.7/249.7 kB\u001b[0m \u001b[31m6.5 MB/s\u001b[0m eta \u001b[36m0:00:00\u001b[0m\n",
            "\u001b[?25hDownloading httpx_sse-0.4.0-py3-none-any.whl (7.8 kB)\n",
            "Downloading fastavro-1.9.7-cp310-cp310-manylinux_2_17_x86_64.manylinux2014_x86_64.whl (3.1 MB)\n",
            "\u001b[2K   \u001b[90m━━━━━━━━━━━━━━━━━━━━━━━━━━━━━━━━━━━━━━━━\u001b[0m \u001b[32m3.1/3.1 MB\u001b[0m \u001b[31m39.1 MB/s\u001b[0m eta \u001b[36m0:00:00\u001b[0m\n",
            "\u001b[?25hDownloading httpx-0.27.2-py3-none-any.whl (76 kB)\n",
            "\u001b[2K   \u001b[90m━━━━━━━━━━━━━━━━━━━━━━━━━━━━━━━━━━━━━━━━\u001b[0m \u001b[32m76.4/76.4 kB\u001b[0m \u001b[31m5.6 MB/s\u001b[0m eta \u001b[36m0:00:00\u001b[0m\n",
            "\u001b[?25hDownloading httpcore-1.0.6-py3-none-any.whl (78 kB)\n",
            "\u001b[2K   \u001b[90m━━━━━━━━━━━━━━━━━━━━━━━━━━━━━━━━━━━━━━━━\u001b[0m \u001b[32m78.0/78.0 kB\u001b[0m \u001b[31m6.4 MB/s\u001b[0m eta \u001b[36m0:00:00\u001b[0m\n",
            "\u001b[?25hDownloading parameterized-0.9.0-py2.py3-none-any.whl (20 kB)\n",
            "Downloading types_requests-2.32.0.20241016-py3-none-any.whl (15 kB)\n",
            "Downloading h11-0.14.0-py3-none-any.whl (58 kB)\n",
            "\u001b[2K   \u001b[90m━━━━━━━━━━━━━━━━━━━━━━━━━━━━━━━━━━━━━━━━\u001b[0m \u001b[32m58.3/58.3 kB\u001b[0m \u001b[31m2.8 MB/s\u001b[0m eta \u001b[36m0:00:00\u001b[0m\n",
            "\u001b[?25hInstalling collected packages: types-requests, parameterized, httpx-sse, h11, fastavro, httpcore, httpx, cohere\n",
            "Successfully installed cohere-5.11.1 fastavro-1.9.7 h11-0.14.0 httpcore-1.0.6 httpx-0.27.2 httpx-sse-0.4.0 parameterized-0.9.0 types-requests-2.32.0.20241016\n"
          ]
        }
      ],
      "source": [
        "!pip install cohere"
      ]
    },
    {
      "cell_type": "markdown",
      "source": [
        "## Import - Write Prompt"
      ],
      "metadata": {
        "id": "Z-eTs_QaYJNy"
      }
    },
    {
      "cell_type": "code",
      "source": [
        "prompt= input(\"Enter your Prompt\")"
      ],
      "metadata": {
        "colab": {
          "base_uri": "https://localhost:8080/"
        },
        "id": "vR9t_MZGYvDL",
        "outputId": "4a0f6044-9861-4286-807c-1030d48783a9"
      },
      "execution_count": 8,
      "outputs": [
        {
          "name": "stdout",
          "output_type": "stream",
          "text": [
            "Enter your PromptHello World\n"
          ]
        }
      ]
    },
    {
      "cell_type": "code",
      "source": [
        "import cohere\n",
        "co = cohere.ClientV2(api_key=\"IDUrrbnk72zo00roG5byr14oP0zb5qn2IgiaEOH6\")\n",
        "res = co.chat(\n",
        "    model=\"command-r-plus-08-2024\",\n",
        "    messages=[\n",
        "        {\n",
        "            \"role\": \"user\",\n",
        "            \"content\":prompt,\n",
        "        }\n",
        "    ],\n",
        ")\n",
        "print(res.message.content[0].text)"
      ],
      "metadata": {
        "colab": {
          "base_uri": "https://localhost:8080/"
        },
        "id": "0mr5meAHXX8I",
        "outputId": "d34f7ed2-f056-414d-cc4c-483e0d49929c"
      },
      "execution_count": 9,
      "outputs": [
        {
          "output_type": "stream",
          "name": "stdout",
          "text": [
            "Hello! How can I help you today? I'm an AI-assistant chatbot trained to assist human users by providing thorough responses.\n"
          ]
        }
      ]
    },
    {
      "cell_type": "code",
      "source": [],
      "metadata": {
        "id": "hltXaPn_YQZx"
      },
      "execution_count": null,
      "outputs": []
    },
    {
      "cell_type": "markdown",
      "source": [
        "## Prompt 2"
      ],
      "metadata": {
        "id": "lbZprtHvYRNU"
      }
    },
    {
      "cell_type": "code",
      "source": [
        "prompt2= input(\"Enter your Prompt\")"
      ],
      "metadata": {
        "colab": {
          "base_uri": "https://localhost:8080/"
        },
        "id": "XIgHjNV4ZIeg",
        "outputId": "6ea670a3-7559-4460-849d-92532c49ef9c"
      },
      "execution_count": 10,
      "outputs": [
        {
          "name": "stdout",
          "output_type": "stream",
          "text": [
            "Enter your PromptWrite a role of Human centeric design in AI\n"
          ]
        }
      ]
    },
    {
      "cell_type": "code",
      "source": [
        "import cohere\n",
        "co = cohere.ClientV2(api_key=\"IDUrrbnk72zo00roG5byr14oP0zb5qn2IgiaEOH6\")\n",
        "res = co.chat(\n",
        "    model=\"command-r-plus-08-2024\",\n",
        "    messages=[\n",
        "        {\n",
        "            \"role\": \"user\",\n",
        "            \"content\":prompt2,\n",
        "        }\n",
        "    ],\n",
        ")\n",
        "print(res.message.content[0].text)"
      ],
      "metadata": {
        "colab": {
          "base_uri": "https://localhost:8080/"
        },
        "id": "avjNysqBUlYI",
        "outputId": "7a1b60d8-f953-4920-c7ce-f1a353f74d7e"
      },
      "execution_count": 11,
      "outputs": [
        {
          "output_type": "stream",
          "name": "stdout",
          "text": [
            "Human-centered design (HCD) plays a crucial role in the development and implementation of Artificial Intelligence (AI) systems, ensuring that these technologies are aligned with human needs, values, and ethical considerations. Here is an overview of the role of human-centered design in AI:\n",
            "\n",
            "## 1. Understanding User Needs and Context\n",
            "- HCD begins with a deep understanding of the users for whom the AI system is being designed. Designers conduct user research, interviews, surveys, and focus groups to gather insights about users' goals, preferences, pain points, and the context in which they will interact with the AI technology.\n",
            "- By empathizing with users, designers can identify the problems that AI can solve and define the requirements and constraints of the AI system, making it more relevant and useful to the target audience.\n",
            "\n",
            "## 2. Co-creation and User Involvement\n",
            "- Human-centered design encourages active user involvement in the design process. Designers collaborate with users to co-create solutions, ensuring that the AI system is developed with their input and feedback.\n",
            "- Techniques like design thinking workshops, prototyping, and iterative testing allow users to participate in shaping the AI system's functionality, user interface, and overall user experience, making it more intuitive and user-friendly.\n",
            "\n",
            "## 3. Enhancing Usability and User Experience (UX)\n",
            "- HCD focuses on creating AI systems with excellent usability and user experience. Designers consider factors such as ease of use, learnability, efficiency, and user satisfaction.\n",
            "- By applying HCD principles, designers can create intuitive interfaces, seamless interactions, and personalized experiences, making AI technologies more accessible and enjoyable for users. This is particularly important in AI, where complex algorithms and machine learning models need to be presented in a user-friendly manner.\n",
            "\n",
            "## 4. Ethical and Social Considerations\n",
            "- Human-centered design in AI addresses ethical and social implications. Designers must consider fairness, transparency, accountability, and privacy in AI systems.\n",
            "- HCD ensures that AI technologies are developed with respect for human autonomy, minimize bias, and promote inclusivity. Designers can identify potential risks, mitigate biases in data and algorithms, and ensure that AI systems are explainable and trustworthy to users.\n",
            "\n",
            "## 5. Building Trust and Acceptance\n",
            "- Human-centered design helps build trust in AI systems. By involving users and considering their needs, designers can create AI technologies that are perceived as beneficial and reliable.\n",
            "- HCD can reduce fears and anxieties associated with AI by making the technology more understandable and controllable for users. This is essential for the widespread adoption and acceptance of AI in various domains.\n",
            "\n",
            "## 6. Iterative Design and Continuous Improvement\n",
            "- HCD is an iterative process that involves prototyping, testing, and refining AI systems based on user feedback. Designers can identify and fix usability issues, improve performance, and adapt to changing user needs over time.\n",
            "- This iterative approach ensures that AI systems remain relevant, effective, and aligned with user expectations as technology and user preferences evolve.\n",
            "\n",
            "## 7. Personalization and Adaptability\n",
            "- Human-centered design enables AI systems to adapt to individual users' needs and preferences. By collecting and analyzing user data (with consent and privacy considerations), AI algorithms can learn and personalize experiences.\n",
            "- HCD helps create adaptive interfaces, tailored recommendations, and context-aware interactions, making AI systems more responsive and valuable to users.\n",
            "\n",
            "## 8. Human-AI Collaboration\n",
            "- Human-centered design explores how humans and AI can work together effectively. Designers can define the roles and responsibilities of humans and AI in a collaborative system, ensuring that human skills and expertise are augmented rather than replaced.\n",
            "- HCD can help create hybrid systems where humans and AI complement each other, leading to improved decision-making, enhanced productivity, and better outcomes.\n",
            "\n",
            "## 9. Accessibility and Inclusivity\n",
            "- Human-centered design promotes accessibility in AI systems, ensuring that they are usable by individuals with diverse abilities and backgrounds. Designers consider factors like visual, auditory, motor, and cognitive impairments.\n",
            "- HCD helps create AI technologies that are inclusive, ensuring equal access and opportunities for all users, regardless of their differences.\n",
            "\n",
            "## 10. Long-term Impact and Sustainability\n",
            "- Human-centered design encourages designers to consider the long-term impact of AI systems on users and society. This includes examining potential societal, environmental, and economic effects.\n",
            "- HCD promotes responsible AI development, ensuring that technologies are sustainable, beneficial, and aligned with human values over time.\n",
            "\n",
            "In summary, human-centered design in AI is essential for creating technologies that are useful, usable, and ethically sound. It ensures that AI systems are developed with a deep understanding of human needs, resulting in more successful, trusted, and beneficial AI applications across various industries and domains. HCD empowers designers to create AI solutions that improve human lives and contribute to a more inclusive and prosperous future.\n"
          ]
        }
      ]
    },
    {
      "cell_type": "code",
      "source": [],
      "metadata": {
        "id": "RCQ67eLiXU5q"
      },
      "execution_count": null,
      "outputs": []
    },
    {
      "cell_type": "code",
      "source": [],
      "metadata": {
        "id": "l8Yp3GW8UzKx"
      },
      "execution_count": null,
      "outputs": []
    }
  ]
}